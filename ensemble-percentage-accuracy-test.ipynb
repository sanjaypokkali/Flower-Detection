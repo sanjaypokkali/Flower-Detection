{
 "cells": [
  {
   "cell_type": "code",
   "execution_count": 1,
   "metadata": {},
   "outputs": [],
   "source": [
    "import os\n",
    "import errno\n",
    "import shutil\n",
    "import pandas as pd\n",
    "from statistics import mode,mean\n",
    "from fastai import *\n",
    "from fastai.vision import *\n",
    "from pathlib import Path\n",
    "from fastai.callbacks import *\n",
    "import numpy as np\n",
    "import pandas as pd\n",
    "import os\n",
    "import cv2\n",
    "import matplotlib.pyplot as plt\n",
    "import matplotlib.patches as patches\n",
    "import random\n",
    "from sklearn.utils import shuffle\n",
    "from tqdm import tqdm_notebook"
   ]
  },
  {
   "cell_type": "code",
   "execution_count": 2,
   "metadata": {},
   "outputs": [],
   "source": [
    "path = 'C:/Users/sanja/Desktop/flowerdet/data/train1'\n",
    "def get_data(sz):\n",
    "    data = (ImageList.from_folder(path) \n",
    "            .split_by_rand_pct()              \n",
    "            .label_from_folder()            \n",
    "            .add_test_folder(test_folder = 'C:/Users/sanja/Desktop/flowerdet/data/test')              \n",
    "            .transform(tfms, size=sz)\n",
    "            .databunch(bs=16,num_workers=30)).normalize(imagenet_stats)\n",
    "    return data\n"
   ]
  },
  {
   "cell_type": "code",
   "execution_count": null,
   "metadata": {},
   "outputs": [],
   "source": [
    "learn50 = cnn_learner(get_data(8), models.resnet50, metrics=accuracy,model_dir=\"models/\")\n",
    "learn152 = cnn_learner(get_data(8), models.resnet152, metrics=accuracy,model_dir=\"models/\")\n",
    "a1=learn50.load('resnet-50-stage-2')\n",
    "a2=learn50.load('res50_244')\n",
    "amixup=learn50.load('res50_mixup_244')\n",
    "b1=learn50.load('resnet-152-stage-2')\n",
    "b2=learn50.load('submission_resnet152-norm-base')\n",
    "bmixup=learn50.load('res152_mixup_244')\n",
    "c1=learn50.load('submission_resnet50-norm-base')"
   ]
  }
 ],
 "metadata": {
  "kernelspec": {
   "display_name": "Fastai",
   "language": "python",
   "name": "pytorch"
  },
  "language_info": {
   "codemirror_mode": {
    "name": "ipython",
    "version": 3
   },
   "file_extension": ".py",
   "mimetype": "text/x-python",
   "name": "python",
   "nbconvert_exporter": "python",
   "pygments_lexer": "ipython3",
   "version": "3.6.9"
  }
 },
 "nbformat": 4,
 "nbformat_minor": 2
}
